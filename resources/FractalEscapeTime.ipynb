{
 "cells": [
  {
   "cell_type": "code",
   "execution_count": 214,
   "metadata": {
    "collapsed": false
   },
   "outputs": [],
   "source": [
    "import math\n",
    "import numpy as np\n",
    "from enum import Enum"
   ]
  },
  {
   "cell_type": "code",
   "execution_count": 215,
   "metadata": {
    "collapsed": false
   },
   "outputs": [],
   "source": [
    "# set start values\n",
    "zstart = np.complex(-2.5,-1.5)\n",
    "zend = np.complex(1.0, 1.5)\n",
    "\n",
    "bailout = np.int(100)\n",
    "\n",
    "image_width = np.int(50)\n",
    "image_height = np.int(50)\n",
    "\n",
    "# enum of fractals that are supported\n",
    "class FractalType(Enum):\n",
    "    mandelbrot = 1\n",
    "    julia = 2\n",
    "    tricorn = 3\n",
    "    burning_ship = 4\n"
   ]
  },
  {
   "cell_type": "code",
   "execution_count": 216,
   "metadata": {
    "collapsed": true
   },
   "outputs": [],
   "source": [
    "def calc_complex_pos(xpos, ypos):\n",
    "    print (zstart + np.complex(xpos * ((zend.real - zstart.real) / image_width), ypos * ((zend.imag - zstart.imag) / image_height)))"
   ]
  },
  {
   "cell_type": "code",
   "execution_count": 217,
   "metadata": {
    "collapsed": false
   },
   "outputs": [],
   "source": [
    "# basic fractal escape time algorithm. i am using a similar approach like in the c++ code \n",
    "# so this is not very pythonic\n",
    "def fractal_calc (xpos, ypos, frac_type=FractalType.mandelbrot, julia_c=np.complex(0.285, 0.01), print_fractal=False):\n",
    "    \"\"\" \n",
    "    Method to calculate escape time for different fractals\n",
    "    \n",
    "    Args:\n",
    "        x (int): Real part as image coordinate\n",
    "        y (int): Imaginary part as image coordinate\n",
    "        frac_type (FractalType): The fractal that should be calculated\n",
    "        julia_c (numpy.Complex): Complex number representing the julia set constant\n",
    "        print_fractal (bool): Print an ascii art fractal\n",
    "    \"\"\"\n",
    "    #z = np.complex(0.0, 0.0)\n",
    "    c = zstart + np.complex(xpos * ((zend.real - zstart.real) / image_width),\n",
    "                            ypos * ((zend.imag - zstart.imag) / image_height))\n",
    "    z = c\n",
    "    if (frac_type == FractalType.julia):\n",
    "        c = julia_c\n",
    "    print(\"zO \" + str(z))\n",
    "    # using an extra iterations variable here because this is essentially what we are doing in c++ as well. \n",
    "    iterations = 0\n",
    "    for i in range(bailout):\n",
    "        if (abs(z) >= 2.0): # check the radius\n",
    "            break\n",
    "        if (frac_type == FractalType.tricorn):\n",
    "            z = np.power(z, -2) + c # this doesn't work, but why?\n",
    "        elif (frac_type == FractalType.burning_ship):\n",
    "            z = np.power(np.complex(abs(z.real), abs(z.imag)), 2) + c\n",
    "        else:\n",
    "            z = z*z + c\n",
    "        iterations += 1\n",
    "    #print(str(iterations) + \", \", end=\"\",flush=True) # this generates a nice list that we can use with c++ \n",
    "    print(str(xpos) + \"/\" + str(ypos) + \" Escape time: \" + str(iterations) + \" - Z \" + str(z))\n",
    "    # print(\"Z:           \" + str(z))\n",
    "    if (print_fractal):\n",
    "        # print ascii fractal\n",
    "        if (iterations == bailout):\n",
    "            print(\"*\", end=\"\", flush=True)\n",
    "        else:\n",
    "            print(\".\", end=\"\", flush=True)"
   ]
  },
  {
   "cell_type": "code",
   "execution_count": 218,
   "metadata": {
    "collapsed": true
   },
   "outputs": [],
   "source": [
    "def continuous_index (its, z):\n",
    "    print (\"Continuous index \" + str(its + 1 - (math.log(2) / abs(z)) / math.log(2.0)))"
   ]
  },
  {
   "cell_type": "code",
   "execution_count": 219,
   "metadata": {
    "collapsed": false
   },
   "outputs": [
    {
     "name": "stdout",
     "output_type": "stream",
     "text": [
      "zO (-1.7999999999999998-0.6000000000000001j)\n",
      "10/15 Escape time: 2 - Z (-3.0672+2.7696j)\n"
     ]
    }
   ],
   "source": [
    "# calculate all complex numbers for the whole range\n",
    "for y in range(image_height):\n",
    "    for x in range(image_width):\n",
    "        #fractal_calc(x, y, FractalType.burning_ship, np.complex(-0.8, 0.156), False)\n",
    "        pass\n",
    "    #print(\"\")\n",
    "\n",
    "# calculate single points\n",
    "fractal_calc(10, 15, FractalType.burning_ship, np.complex(-0.8, 0.156), False)\n",
    "# continuous_index(55, np.complex(2.3637850846657784, -2.264372597523388))"
   ]
  }
 ],
 "metadata": {
  "kernelspec": {
   "display_name": "Python 3",
   "language": "python",
   "name": "python3"
  },
  "language_info": {
   "codemirror_mode": {
    "name": "ipython",
    "version": 3
   },
   "file_extension": ".py",
   "mimetype": "text/x-python",
   "name": "python",
   "nbconvert_exporter": "python",
   "pygments_lexer": "ipython3",
   "version": "3.5.1"
  }
 },
 "nbformat": 4,
 "nbformat_minor": 0
}
