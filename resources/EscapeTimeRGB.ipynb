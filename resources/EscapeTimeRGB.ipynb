{
 "cells": [
  {
   "cell_type": "code",
   "execution_count": 445,
   "metadata": {
    "collapsed": true
   },
   "outputs": [],
   "source": [
    "# Creating RGB colorbars based on escape time"
   ]
  },
  {
   "cell_type": "code",
   "execution_count": 446,
   "metadata": {
    "collapsed": true
   },
   "outputs": [],
   "source": [
    "import numpy as np\n",
    "import matplotlib as mpl\n",
    "import matplotlib.pyplot as plt\n",
    "import matplotlib.colors as col\n",
    "import matplotlib.cm as cm"
   ]
  },
  {
   "cell_type": "code",
   "execution_count": 447,
   "metadata": {
    "collapsed": true
   },
   "outputs": [],
   "source": [
    "def rgb_linear(escapet, rgb_base, rgb_freq):\n",
    "    '''\n",
    "    calculates RGB tuples based on escape time, rgb_base and rgb_freq\n",
    "    '''\n",
    "    red = rgb_base[0]\n",
    "    green = rgb_base[1]\n",
    "    blue = rgb_base[2]\n",
    "    if (rgb_freq[0] > 0 and 255 - red > 0):\n",
    "        red = rgb_base[0] + ((escapet * rgb_freq[0]) % (255 - rgb_base[0]))\n",
    "        #print(\"red: \" + str(red))\n",
    "    if (rgb_freq[1] > 0 and 255 - blue > 0):\n",
    "        green = rgb_base[1] + ((escapet * rgb_freq[1]) % (255 - rgb_base[1]))\n",
    "        #print(\"green: \" + str(green))\n",
    "    if (rgb_freq[2] > 0 and 255 - green > 0):\n",
    "        blue = rgb_base[2] + ((escapet * rgb_freq[2]) % (255 - rgb_base[2]))\n",
    "        #print(\"blue: \" + str(blue))\n",
    "    \n",
    "    return (red, green, blue)"
   ]
  },
  {
   "cell_type": "code",
   "execution_count": 448,
   "metadata": {
    "collapsed": false
   },
   "outputs": [],
   "source": [
    "escape_time = np.arange(0, 100, 1)\n",
    "rgb_values_1 = np.zeros((100,3), dtype='uint8')\n",
    "rgb_values_2 = np.zeros((100,3), dtype='uint8')\n",
    "rgb_values_3 = np.zeros((100,3), dtype='uint8')\n",
    "rgb_values_4 = np.zeros((100,3), dtype='uint8')\n",
    "rgb_values_5 = np.zeros((100,3), dtype='uint8')\n",
    "rgb_values_6 = np.zeros((100,3), dtype='uint8')\n",
    "rgb_values_7 = np.zeros((100,3), dtype='uint8')\n",
    "for et in escape_time:\n",
    "    #rgb_values[et] = np.append(rgb_linear(et, (255, 0, 0), (0, 16, 5.15)), 255)\n",
    "    rgb_values_1[et] = rgb_linear(et, (255, 0, 0), (0, 2, 0))\n",
    "    rgb_values_2[et] = rgb_linear(et, (255, 0, 0), (0, 8, 0))\n",
    "    rgb_values_3[et] = rgb_linear(et, (255, 0, 0), (0, 16, 0))\n",
    "    rgb_values_4[et] = rgb_linear(et, (255, 0, 0), (0, 2, 4))\n",
    "    rgb_values_5[et] = rgb_linear(et, (255, 0, 0), (0, 8, 4))\n",
    "    rgb_values_6[et] = rgb_linear(et, (255, 0, 0), (0, 16, 4))\n",
    "    rgb_values_7[et] = rgb_linear(et, (80, 20, 0), (4, 6, 8))\n",
    "\n"
   ]
  },
  {
   "cell_type": "code",
   "execution_count": 449,
   "metadata": {
    "collapsed": true
   },
   "outputs": [],
   "source": [
    "bounds = np.arange(0, 100, 1)"
   ]
  },
  {
   "cell_type": "code",
   "execution_count": 450,
   "metadata": {
    "collapsed": true
   },
   "outputs": [],
   "source": [
    "# create a norm_obj that we can use to normalize our RGB tuples\n",
    "norm_obj_1 = col.Normalize(vmin=np.amin(rgb_values_1),\n",
    "                                        vmax=np.amax(rgb_values_1))\n",
    "norm_obj_2 = col.Normalize(vmin=np.amin(rgb_values_2),\n",
    "                                        vmax=np.amax(rgb_values_2))\n",
    "norm_obj_3 = col.Normalize(vmin=np.amin(rgb_values_3),\n",
    "                                        vmax=np.amax(rgb_values_3))\n",
    "\n",
    "norm_obj_4 = col.Normalize(vmin=np.amin(rgb_values_4),\n",
    "                                        vmax=np.amax(rgb_values_4))\n",
    "norm_obj_5 = col.Normalize(vmin=np.amin(rgb_values_5),\n",
    "                                        vmax=np.amax(rgb_values_5))\n",
    "norm_obj_6 = col.Normalize(vmin=np.amin(rgb_values_6),\n",
    "                                        vmax=np.amax(rgb_values_6))\n",
    "\n",
    "norm_obj_7 = col.Normalize(vmin=np.amin(rgb_values_7),\n",
    "                                        vmax=np.amax(rgb_values_7))"
   ]
  },
  {
   "cell_type": "code",
   "execution_count": 451,
   "metadata": {
    "collapsed": true
   },
   "outputs": [],
   "source": [
    "colmap_1 = col.ListedColormap(norm_obj_1(rgb_values_1))\n",
    "colmap_2 = col.ListedColormap(norm_obj_2(rgb_values_2))\n",
    "colmap_3 = col.ListedColormap(norm_obj_3(rgb_values_3))\n",
    "\n",
    "colmap_4 = col.ListedColormap(norm_obj_4(rgb_values_4))\n",
    "colmap_5 = col.ListedColormap(norm_obj_5(rgb_values_5))\n",
    "colmap_6 = col.ListedColormap(norm_obj_6(rgb_values_6))\n",
    "\n",
    "colmap_7 = col.ListedColormap(norm_obj_7(rgb_values_7))"
   ]
  },
  {
   "cell_type": "code",
   "execution_count": 452,
   "metadata": {
    "collapsed": true
   },
   "outputs": [],
   "source": [
    "norm_1 = mpl.colors.BoundaryNorm(bounds, colmap_1.N)\n",
    "norm_2 = mpl.colors.BoundaryNorm(bounds, colmap_2.N)\n",
    "norm_3 = mpl.colors.BoundaryNorm(bounds, colmap_3.N)\n",
    "\n",
    "norm_5 = mpl.colors.BoundaryNorm(bounds, colmap_4.N)\n",
    "norm_6 = mpl.colors.BoundaryNorm(bounds, colmap_5.N)\n",
    "norm_7 = mpl.colors.BoundaryNorm(bounds, colmap_6.N)\n",
    "\n",
    "norm_7 = mpl.colors.BoundaryNorm(bounds, colmap_7.N)"
   ]
  },
  {
   "cell_type": "code",
   "execution_count": 453,
   "metadata": {
    "collapsed": false
   },
   "outputs": [],
   "source": [
    "def one_band_axes():\n",
    "    fig = plt.figure(figsize=(10, 3))\n",
    "    #fig.suptitle(\"Escape Time Color sequences\")\n",
    "    # rect [left, bottom, width, height]\n",
    "    ax_1 = fig.add_axes([0.05, 0.80, 0.9, 0.15])\n",
    "    ax_2 = fig.add_axes([0.05, 0.475, 0.9, 0.15])\n",
    "    ax_3 = fig.add_axes([0.05, 0.15, 0.9, 0.15])\n",
    "    cb_1 = mpl.colorbar.ColorbarBase(ax_1, cmap=colmap_1,\n",
    "                                    norm=norm_1,\n",
    "                                    boundaries=bounds,\n",
    "                                    # extend='both',\n",
    "                                    # Make the length of each extension\n",
    "                                    # the same as the length of the\n",
    "                                    # interior colors:\n",
    "                                    extendfrac='auto',\n",
    "                                    spacing='uniform',\n",
    "                                    orientation='horizontal')\n",
    "    cb_1.set_label('rgb-base=255,0,0 rgb-freq=0,2,0')\n",
    "    cb_2 = mpl.colorbar.ColorbarBase(ax_2, cmap=colmap_2,\n",
    "                                    norm=norm_2,\n",
    "                                    boundaries=bounds,\n",
    "                                    # extend='both',\n",
    "                                    # Make the length of each extension\n",
    "                                    # the same as the length of the\n",
    "                                    # interior colors:\n",
    "                                    extendfrac='auto',\n",
    "                                    spacing='uniform',\n",
    "                                    orientation='horizontal')\n",
    "    cb_2.set_label('rgb-base=255,0,0 rgb-freq=0,8,0')\n",
    "    cb_3 = mpl.colorbar.ColorbarBase(ax_3, cmap=colmap_3,\n",
    "                                    norm=norm_3,\n",
    "                                    boundaries=bounds,\n",
    "                                    # extend='both',\n",
    "                                    # Make the length of each extension\n",
    "                                    # the same as the length of the\n",
    "                                    # interior colors:\n",
    "                                    extendfrac='auto',\n",
    "                                    spacing='uniform',\n",
    "                                    orientation='horizontal')\n",
    "    cb_3.set_label('rgb-base=255,0,0 rgb-freq=0,16,0')\n",
    "\n",
    "    #plt.tight_layout()\n",
    "    plt.show()"
   ]
  },
  {
   "cell_type": "code",
   "execution_count": 454,
   "metadata": {
    "collapsed": true
   },
   "outputs": [],
   "source": [
    "def two_band_axes():\n",
    "    fig = plt.figure(figsize=(10, 3))\n",
    "    #fig.suptitle(\"Escape Time Color sequences\")\n",
    "    # rect [left, bottom, width, height]\n",
    "    ax_1 = fig.add_axes([0.05, 0.80, 0.9, 0.15])\n",
    "    ax_2 = fig.add_axes([0.05, 0.475, 0.9, 0.15])\n",
    "    ax_3 = fig.add_axes([0.05, 0.15, 0.9, 0.15])\n",
    "    cb_1 = mpl.colorbar.ColorbarBase(ax_1, cmap=colmap_4,\n",
    "                                    norm=norm_4,\n",
    "                                    boundaries=bounds,\n",
    "                                    # extend='both',\n",
    "                                    # Make the length of each extension\n",
    "                                    # the same as the length of the\n",
    "                                    # interior colors:\n",
    "                                    extendfrac='auto',\n",
    "                                    spacing='uniform',\n",
    "                                    orientation='horizontal')\n",
    "    cb_1.set_label('rgb-base=255,0,0 rgb-freq=0,2,4')\n",
    "    cb_2 = mpl.colorbar.ColorbarBase(ax_2, cmap=colmap_5,\n",
    "                                    norm=norm_5,\n",
    "                                    boundaries=bounds,\n",
    "                                    # extend='both',\n",
    "                                    # Make the length of each extension\n",
    "                                    # the same as the length of the\n",
    "                                    # interior colors:\n",
    "                                    extendfrac='auto',\n",
    "                                    spacing='uniform',\n",
    "                                    orientation='horizontal')\n",
    "    cb_2.set_label('rgb-base=255,0,0 rgb-freq=0,8,4')\n",
    "    cb_3 = mpl.colorbar.ColorbarBase(ax_3, cmap=colmap_6,\n",
    "                                    norm=norm_6,\n",
    "                                    boundaries=bounds,\n",
    "                                    # extend='both',\n",
    "                                    # Make the length of each extension\n",
    "                                    # the same as the length of the\n",
    "                                    # interior colors:\n",
    "                                    extendfrac='auto',\n",
    "                                    spacing='uniform',\n",
    "                                    orientation='horizontal')\n",
    "    cb_3.set_label('rgb-base=255,0,0 rgb-freq=0,16,4')\n",
    "\n",
    "    #plt.tight_layout()\n",
    "    plt.show()"
   ]
  },
  {
   "cell_type": "code",
   "execution_count": 455,
   "metadata": {
    "collapsed": true
   },
   "outputs": [],
   "source": [
    "one_band_axes()\n",
    "two_band_axes()"
   ]
  }
 ],
 "metadata": {
  "kernelspec": {
   "display_name": "Python 3",
   "language": "python",
   "name": "python3"
  },
  "language_info": {
   "codemirror_mode": {
    "name": "ipython",
    "version": 3
   },
   "file_extension": ".py",
   "mimetype": "text/x-python",
   "name": "python",
   "nbconvert_exporter": "python",
   "pygments_lexer": "ipython3",
   "version": "3.5.1"
  }
 },
 "nbformat": 4,
 "nbformat_minor": 0
}
