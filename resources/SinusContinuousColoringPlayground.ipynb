{
 "cells": [
  {
   "cell_type": "code",
   "execution_count": 276,
   "metadata": {
    "collapsed": true
   },
   "outputs": [],
   "source": [
    "# Continuous Coloring Playground"
   ]
  },
  {
   "cell_type": "code",
   "execution_count": 277,
   "metadata": {
    "collapsed": true
   },
   "outputs": [],
   "source": [
    "import csv\n",
    "import os\n",
    "import numpy as np\n",
    "import matplotlib as mpl\n",
    "import matplotlib.pyplot as plt\n",
    "import matplotlib.colors as col\n",
    "import matplotlib.cm as cm"
   ]
  },
  {
   "cell_type": "code",
   "execution_count": 278,
   "metadata": {
    "collapsed": false
   },
   "outputs": [],
   "source": [
    "cont_idx = np.array(1)\n",
    "escape_idx = np.array(1)"
   ]
  },
  {
   "cell_type": "code",
   "execution_count": 279,
   "metadata": {
    "collapsed": false
   },
   "outputs": [],
   "source": [
    "def read_csv(source_file):\n",
    "    if (os.path.isfile(source_file)):\n",
    "        with open(source_file,'r') as csv_file:\n",
    "            data_iter = csv.reader(csv_file, \n",
    "                                   delimiter = ';', \n",
    "                                   quotechar = '\"')\n",
    "            data = [data for data in data_iter]\n",
    "        return data\n",
    "    else:\n",
    "        return np.nan"
   ]
  },
  {
   "cell_type": "code",
   "execution_count": 280,
   "metadata": {
    "collapsed": false
   },
   "outputs": [],
   "source": [
    "def rgb_continuous(cont_index, escape_time, bailout, rgb_base, rgb_freq, rgb_phase):\n",
    "    '''\n",
    "    Convert cont_index with rgb_base rgb_frea and rgb_phase to a rgb value between 0 and 255 \n",
    "    using the power of the sine function\n",
    "    '''\n",
    "    red = rgb_base[0]\n",
    "    green = rgb_base[1]\n",
    "    blue = rgb_base[2]\n",
    "    if (escape_time == bailout):\n",
    "        return (0, 0, 0)\n",
    "    \n",
    "    if (rgb_freq[0] > 0):\n",
    "        red = np.abs(np.sin(rgb_freq[0] * cont_index + rgb_phase[0]) * (255 - rgb_base[0]) + rgb_base[0])\n",
    "    if (rgb_freq[1] > 0):\n",
    "        green = np.abs(np.sin(rgb_freq[1] * cont_index + rgb_phase[1]) * (255 - rgb_base[1]) + rgb_base[1])\n",
    "    if (rgb_freq[2] > 0):\n",
    "        blue = np.abs(np.sin(rgb_freq[2] * cont_index + rgb_phase[2]) * (255 - rgb_base[2]) + rgb_base[2])\n",
    "    \n",
    "    rgb = np.array([red, green, blue])\n",
    "    return rgb.astype(int)"
   ]
  },
  {
   "cell_type": "code",
   "execution_count": 281,
   "metadata": {
    "collapsed": false
   },
   "outputs": [],
   "source": [
    "def read_csv_data(cont_idx, escape_idx, bailout, rgb_base, rgb_freq, rgb_phase):\n",
    "    rgb_tuples = np.zeros((cont_idx.size,3), dtype='uint8')\n",
    "    tuples_idx = 0\n",
    "    \n",
    "    for cidx in cont_idx.flatten():\n",
    "        rgb_tuples[tuples_idx] = rgb_continuous(cidx, \n",
    "                                                escape_idx.flat[tuples_idx],\n",
    "                                                bailout,\n",
    "                                                rgb_base,\n",
    "                                                rgb_freq,\n",
    "                                                rgb_phase)\n",
    "        tuples_idx +=1\n",
    "        \n",
    "    return rgb_tuples"
   ]
  },
  {
   "cell_type": "code",
   "execution_count": 282,
   "metadata": {
    "collapsed": false
   },
   "outputs": [],
   "source": [
    "def generate_rgb_tuples(cont_idx, escape_idx, bailout, rgb_base, rgb_freq, rgb_phase):\n",
    "    rgb_tuples = np.zeros((cont_idx.size,3), dtype='uint8')\n",
    "    tuples_idx = 0\n",
    "    \n",
    "    for cidx in cont_idx:\n",
    "        rgb_tuples[tuples_idx] = rgb_continuous(cidx, \n",
    "                                                escape_idx[tuples_idx],\n",
    "                                                bailout,\n",
    "                                                rgb_base,\n",
    "                                                rgb_freq,\n",
    "                                                rgb_phase)\n",
    "        tuples_idx +=1\n",
    "        \n",
    "    return rgb_tuples"
   ]
  },
  {
   "cell_type": "code",
   "execution_count": 283,
   "metadata": {
    "collapsed": false
   },
   "outputs": [],
   "source": [
    "# use these only when readiong csv exports of geomandel\n",
    "# cont_idx = np.asarray(read_csv(\"geomandel_w500_h500_b100_contindex.csv\"), dtype=float)\n",
    "# escape_idx = np.asarray(read_csv(\"geomandel_w500_h500_b100_iterindex.csv\"), dtype=int)\n",
    "# read_csv_data(cont_idx, escape_idx)\n",
    "\n",
    "cont_idx = np.logspace(0.02, 3.0, num=1000)\n",
    "escape_idx = np.linspace(0, 1000, 1001)\n",
    "escape_idx_2 = np.linspace(0, 50, 51)\n",
    "rgb_tuples_1 = generate_rgb_tuples(cont_idx, \n",
    "                                   escape_idx, \n",
    "                                   cont_idx.size,\n",
    "                                   (127, 127, 127),\n",
    "                                   # you have to adjust the frequency so it corresponds with the mandelbrot bailout\n",
    "                                   (0.006, 0.006, 0.006),\n",
    "                                   (0, 2, 4))\n",
    "rgb_tuples_2 = generate_rgb_tuples(cont_idx, \n",
    "                                   escape_idx, \n",
    "                                   cont_idx.size,\n",
    "                                   (127, 127, 127),\n",
    "                                   (0.01, 0.008, 0.005), \n",
    "                                   (0, 0, 0))\n",
    "rgb_tuples_3 = generate_rgb_tuples(cont_idx, \n",
    "                                   escape_idx, \n",
    "                                   cont_idx.size,\n",
    "                                   (230, 230, 230), \n",
    "                                   (0.012, 0.009, 0.004), \n",
    "                                   (0, 0, 0))\n",
    "rgb_tuples_4 = generate_rgb_tuples(escape_idx_2, \n",
    "                                   escape_idx_2, \n",
    "                                   escape_idx_2.size,\n",
    "                                   (200, 200, 200),\n",
    "                                   (0.3, 0.3, 0.3),\n",
    "                                   (0, 2, 4))\n",
    "rgb_tuples_5 = generate_rgb_tuples(cont_idx, \n",
    "                                   escape_idx, \n",
    "                                   cont_idx.size,\n",
    "                                   (127, 127, 127),\n",
    "                                   # you have to adjust the frequency so it corresponds with the mandelbrot bailout\n",
    "                                   (0.05, 0.05, 0.05),\n",
    "                                   (0, 2, 4))"
   ]
  },
  {
   "cell_type": "code",
   "execution_count": 284,
   "metadata": {
    "collapsed": false
   },
   "outputs": [],
   "source": [
    "bounds = np.arange(0, 1000, 1)\n",
    "bounds_2 = np.arange(0, 50, 1)\n",
    "norm_obj_1 = col.Normalize(vmin=np.amin(rgb_tuples_1),\n",
    "                           vmax=np.amax(rgb_tuples_1))\n",
    "norm_obj_2 = col.Normalize(vmin=np.amin(rgb_tuples_2),\n",
    "                           vmax=np.amax(rgb_tuples_2))\n",
    "norm_obj_3 = col.Normalize(vmin=np.amin(rgb_tuples_3),\n",
    "                           vmax=np.amax(rgb_tuples_3))\n",
    "norm_obj_4 = col.Normalize(vmin=np.amin(rgb_tuples_4),\n",
    "                           vmax=np.amax(rgb_tuples_4))"
   ]
  },
  {
   "cell_type": "code",
   "execution_count": 285,
   "metadata": {
    "collapsed": true
   },
   "outputs": [],
   "source": [
    "\n",
    "colmap_1 = col.ListedColormap(norm_obj_1(rgb_tuples_1))\n",
    "colmap_2 = col.ListedColormap(norm_obj_2(rgb_tuples_2))\n",
    "colmap_3 = col.ListedColormap(norm_obj_3(rgb_tuples_3))\n",
    "colmap_4 = col.ListedColormap(norm_obj_4(rgb_tuples_4))"
   ]
  },
  {
   "cell_type": "code",
   "execution_count": 286,
   "metadata": {
    "collapsed": true
   },
   "outputs": [],
   "source": [
    "norm_1 = mpl.colors.BoundaryNorm(bounds, colmap_1.N)\n",
    "norm_2 = mpl.colors.BoundaryNorm(bounds, colmap_2.N)\n",
    "norm_3 = mpl.colors.BoundaryNorm(bounds, colmap_3.N)\n",
    "norm_4 = mpl.colors.BoundaryNorm(bounds_2, colmap_4.N)"
   ]
  },
  {
   "cell_type": "code",
   "execution_count": 287,
   "metadata": {
    "collapsed": true
   },
   "outputs": [],
   "source": [
    "# generate 3 different figures showing the color channel waves and a corresponding colorbar\n",
    "\n",
    "fig = plt.figure(1, figsize=(10, 6))\n",
    "fig.suptitle(\"Rainbow Colors using out of phase waves\", fontsize='medium', weight='bold')\n",
    "ax_1 = fig.add_subplot(111)\n",
    "ax_1.plot(cont_idx, rgb_tuples_1.T[0], c='red', lw=2)\n",
    "ax_1.plot(cont_idx, rgb_tuples_1.T[1], c='green', lw=2)\n",
    "ax_1.plot(cont_idx, rgb_tuples_1.T[2], c='blue', lw=2)\n",
    "ax_1.set_xlabel(\"Continuous Index\")\n",
    "ax_1.set_ylabel(\"Color Channel\")\n",
    "rgb_settings_1 = \"rgb-base=127,127,127 rgb-freq=0.006,0.006,0.006 rgb-phase=0,2,4\"\n",
    "ax_1.text(0.5, 0.92, rgb_settings_1,\n",
    "         horizontalalignment='center',\n",
    "         fontsize='small',\n",
    "          weight='bold',\n",
    "         transform = ax_1.transAxes)\n",
    "ax_1.grid()\n",
    "# make room for an additional axis at the bottom\n",
    "fig.subplots_adjust(top=0.93, bottom=0.27)\n",
    "# get the bounding box\n",
    "box = ax_1.get_position()\n",
    "# use the box to position the colorbar\n",
    "ax_colb = fig.add_axes([box.x0, box.y0 - 0.18, box.width, 0.1])\n",
    "cb_1 = mpl.colorbar.ColorbarBase(ax_colb, cmap=colmap_1,\n",
    "                                 norm=norm_1,\n",
    "                                 boundaries=bounds,\n",
    "                                 # extend='both',\n",
    "                                 # Make the length of each extension\n",
    "                                 # the same as the length of the\n",
    "                                 # interior colors:\n",
    "                                 extendfrac='auto',\n",
    "                                 spacing='uniform',\n",
    "                                 orientation='horizontal')\n",
    "cb_1.set_label(\"Rainbow Colors\")\n",
    "\n",
    "# a second figure\n",
    "\n",
    "fig_2 = plt.figure(2, figsize=(10, 6))\n",
    "fig_2.suptitle(\"Different Frequencies\", fontsize='medium', weight='bold')\n",
    "ax_2 = fig_2.add_subplot(111)\n",
    "ax_2.plot(cont_idx, rgb_tuples_2.T[0], c='red', lw=2)\n",
    "ax_2.plot(cont_idx, rgb_tuples_2.T[1], c='green', lw=2)\n",
    "ax_2.plot(cont_idx, rgb_tuples_2.T[2], c='blue', lw=2)\n",
    "ax_2.set_xlabel(\"Continuous Index\")\n",
    "ax_2.set_ylabel(\"Color Channel\")\n",
    "rgb_settings_2 = \"rgb-base=127,127,127 rgb-freq=0.01,0.008,0.005 rgb-phase=0,0,0\"\n",
    "ax_2.text(0.5, 0.92, rgb_settings_2,\n",
    "         horizontalalignment='center',\n",
    "         fontsize='small',\n",
    "          weight='bold',\n",
    "         transform = ax_2.transAxes)\n",
    "ax_2.grid()\n",
    "# make room for an additional axis at the bottom\n",
    "fig_2.subplots_adjust(top=0.93, bottom=0.27)\n",
    "# get the bounding box\n",
    "box_2 = ax_2.get_position()\n",
    "# use the box to position the colorbar\n",
    "ax_colb_2 = fig_2.add_axes([box_2.x0, box_2.y0 - 0.18, box_2.width, 0.1])\n",
    "cb_2 = mpl.colorbar.ColorbarBase(ax_colb_2, cmap=colmap_2,\n",
    "                                 norm=norm_2,\n",
    "                                 boundaries=bounds,\n",
    "                                 # extend='both',\n",
    "                                 # Make the length of each extension\n",
    "                                 # the same as the length of the\n",
    "                                 # interior colors:\n",
    "                                 extendfrac='auto',\n",
    "                                 spacing='uniform',\n",
    "                                 orientation='horizontal')\n",
    "cb_2.set_label(\"Grey Shades to colors\")\n",
    "\n",
    "fig_3 = plt.figure(3, figsize=(10, 6))\n",
    "fig_3.suptitle(\"Different Frequencies and out of phase\", fontsize='medium', weight='bold')\n",
    "ax_3 = fig_3.add_subplot(111)\n",
    "ax_3.plot(cont_idx, rgb_tuples_3.T[0], c='red', lw=2)\n",
    "ax_3.plot(cont_idx, rgb_tuples_3.T[1], c='green', lw=2)\n",
    "ax_3.plot(cont_idx, rgb_tuples_3.T[2], c='blue', lw=2)\n",
    "ax_3.set_xlabel(\"Continuous Index\")\n",
    "ax_3.set_ylabel(\"Color Channel\")\n",
    "rgb_settings_3 = \"rgb-base=230,230,230 rgb-freq=0.016,0.013,0.01 rgb-phase=0,2,4\"\n",
    "ax_3.text(0.5, 0.92, rgb_settings_3,\n",
    "         horizontalalignment='center',\n",
    "         fontsize='small',\n",
    "          weight='bold',\n",
    "         transform = ax_3.transAxes)\n",
    "ax_3.grid()\n",
    "# make room for an additional axis at the bottom\n",
    "fig_3.subplots_adjust(top=0.93, bottom=0.27)\n",
    "# get the bounding box\n",
    "box_3 = ax_3.get_position()\n",
    "# use the box to position the colorbar\n",
    "ax_colb_3 = fig_3.add_axes([box_3.x0, box_3.y0 - 0.18, box_3.width, 0.1])\n",
    "cb_3 = mpl.colorbar.ColorbarBase(ax_colb_3, cmap=colmap_3,\n",
    "                                 norm=norm_3,\n",
    "                                 boundaries=bounds,\n",
    "                                 # extend='both',\n",
    "                                 # Make the length of each extension\n",
    "                                 # the same as the length of the\n",
    "                                 # interior colors:\n",
    "                                 extendfrac='auto',\n",
    "                                 spacing='uniform',\n",
    "                                 orientation='horizontal')\n",
    "cb_3.set_label(\"Pastel Colors\")\n",
    "\n"
   ]
  },
  {
   "cell_type": "markdown",
   "metadata": {
    "collapsed": true
   },
   "source": [
    "fig_4 = plt.figure(4, figsize=(10, 6))\n",
    "ax_4 = fig_4.add_subplot(111)\n",
    "ax_4.plot(escape_idx_2, rgb_tuples_4.T[0], c='red', lw=2)\n",
    "ax_4.plot(escape_idx_2, rgb_tuples_4.T[1], c='green', lw=2)\n",
    "ax_4.plot(escape_idx_2, rgb_tuples_4.T[2], c='blue', lw=2)\n",
    "\n",
    "fig_4.subplots_adjust(top=0.93, bottom=0.27)\n",
    "\n",
    "box_4 = ax_4.get_position()\n",
    "ax_colb_4 = fig_4.add_axes([box_4.x0, box_4.y0 - 0.18, box_4.width, 0.1])\n",
    "cb_4 = mpl.colorbar.ColorbarBase(ax_colb_4, cmap=colmap_4,\n",
    "                                 norm=norm_4,\n",
    "                                 boundaries=bounds_2,\n",
    "                                 # extend='both',\n",
    "                                 # Make the length of each extension\n",
    "                                 # the same as the length of the\n",
    "                                 # interior colors:\n",
    "                                 extendfrac='auto',\n",
    "                                 spacing='uniform',\n",
    "                                 orientation='horizontal')\n",
    "\n",
    "\n"
   ]
  },
  {
   "cell_type": "code",
   "execution_count": 288,
   "metadata": {
    "collapsed": true
   },
   "outputs": [],
   "source": [
    "plt.show()"
   ]
  }
 ],
 "metadata": {
  "kernelspec": {
   "display_name": "Python 3",
   "language": "python",
   "name": "python3"
  },
  "language_info": {
   "codemirror_mode": {
    "name": "ipython",
    "version": 3
   },
   "file_extension": ".py",
   "mimetype": "text/x-python",
   "name": "python",
   "nbconvert_exporter": "python",
   "pygments_lexer": "ipython3",
   "version": "3.5.1"
  }
 },
 "nbformat": 4,
 "nbformat_minor": 0
}
