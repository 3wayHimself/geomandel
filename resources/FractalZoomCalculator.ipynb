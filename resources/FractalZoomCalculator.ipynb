{
 "cells": [
  {
   "cell_type": "markdown",
   "metadata": {},
   "source": [
    "# Calculate appropriate complex plane baes on zoom level\n",
    "\n",
    "This code here is used to define the complex plane for the fractal escape time algorithm based on the zoom level. This was used to get values for unit tests."
   ]
  },
  {
   "cell_type": "code",
   "execution_count": 44,
   "metadata": {
    "collapsed": true
   },
   "outputs": [],
   "source": [
    "import math\n",
    "import numpy as np"
   ]
  },
  {
   "cell_type": "code",
   "execution_count": 45,
   "metadata": {
    "collapsed": false
   },
   "outputs": [],
   "source": [
    "# start values\n",
    "real_min = np.double(-2.0)\n",
    "real_max = np.double(1.0)\n",
    "ima_min = np.double(-1.5)\n",
    "ima_max = np.double(1.5)\n",
    "\n",
    "zoom = np.int(1000)\n",
    "image_width = np.int(640)\n",
    "image_height = np.int(480)\n",
    "xcoord = np.int(89)\n",
    "ycoord = np.int(321)\n"
   ]
  },
  {
   "cell_type": "code",
   "execution_count": 46,
   "metadata": {
    "collapsed": true
   },
   "outputs": [],
   "source": [
    "# calculate deltas\n",
    "real_delta = np.double((real_max - real_min) / image_width)\n",
    "ima_delta = np.double((ima_max - ima_min) / image_height)"
   ]
  },
  {
   "cell_type": "code",
   "execution_count": 47,
   "metadata": {
    "collapsed": false
   },
   "outputs": [],
   "source": [
    "# map image space coordinates to complex plane\n",
    "xcoord_cplane = real_min + xcoord * real_delta\n",
    "ycoord_cplane = ima_min + ycoord * ima_delta\n",
    "# or you can alternatively use numpy interpolate\n",
    "xcoord_cplane_np = np.interp(xcoord, [0, image_width], [real_min, real_max])\n",
    "ycoord_cplane_np = np.interp(ycoord, [0, image_height], [ima_min, ima_max])"
   ]
  },
  {
   "cell_type": "code",
   "execution_count": 48,
   "metadata": {
    "collapsed": false
   },
   "outputs": [],
   "source": [
    "# Applying zoom to current delta\n",
    "real_delta_zoom = real_delta / zoom\n",
    "ima_delta_zoom = ima_delta / zoom"
   ]
  },
  {
   "cell_type": "code",
   "execution_count": 49,
   "metadata": {
    "collapsed": false
   },
   "outputs": [],
   "source": [
    "# New Complex plane derived from mapped image coordinates and zoom delta\n",
    "real_min_zoom = xcoord_cplane - (image_width / 2 * real_delta_zoom)\n",
    "real_max_zoom = xcoord_cplane + (image_width / 2 * real_delta_zoom)\n",
    "\n",
    "ima_min_zoom = ycoord_cplane - (image_height / 2 * ima_delta_zoom)\n",
    "ima_max_zoom = ycoord_cplane + (image_height / 2 * ima_delta_zoom)"
   ]
  },
  {
   "cell_type": "code",
   "execution_count": 50,
   "metadata": {
    "collapsed": false
   },
   "outputs": [
    {
     "name": "stdout",
     "output_type": "stream",
     "text": [
      "Complex Plane:\n",
      "\tReal      -1.5843125 -1.5813125\n",
      "\tImaginary 0.50475 0.50775\n"
     ]
    }
   ],
   "source": [
    "print(\"Complex Plane:\")\n",
    "print(\"\\tReal      \" + str(real_min_zoom) + \" \" + str(real_max_zoom))\n",
    "print(\"\\tImaginary \" + str(ima_min_zoom) + \" \" + str(ima_max_zoom))"
   ]
  },
  {
   "cell_type": "code",
   "execution_count": null,
   "metadata": {
    "collapsed": true
   },
   "outputs": [],
   "source": []
  }
 ],
 "metadata": {
  "kernelspec": {
   "display_name": "Python 3",
   "language": "python",
   "name": "python3"
  },
  "language_info": {
   "codemirror_mode": {
    "name": "ipython",
    "version": 3
   },
   "file_extension": ".py",
   "mimetype": "text/x-python",
   "name": "python",
   "nbconvert_exporter": "python",
   "pygments_lexer": "ipython3",
   "version": "3.5.1"
  }
 },
 "nbformat": 4,
 "nbformat_minor": 0
}
