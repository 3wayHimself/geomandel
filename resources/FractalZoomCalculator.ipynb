{
 "cells": [
  {
   "cell_type": "markdown",
   "metadata": {},
   "source": [
    "# Calculate appropriate complex plane baes on zoom level\n",
    "\n",
    "This code here is used to define the complex plane for the fractal escape time algorithm based on the zoom level. This was used to get values for unit tests."
   ]
  },
  {
   "cell_type": "code",
   "execution_count": 1,
   "metadata": {
    "collapsed": true
   },
   "outputs": [],
   "source": [
    "import math\n",
    "import numpy as np"
   ]
  },
  {
   "cell_type": "code",
   "execution_count": 2,
   "metadata": {
    "collapsed": false
   },
   "outputs": [
    {
     "name": "stdout",
     "output_type": "stream",
     "text": [
      "zoom 8.55233095042e+12\n"
     ]
    }
   ],
   "source": [
    "# start values\n",
    "real_min = np.double(-2.0)\n",
    "real_max = np.double(1.0)\n",
    "ima_min = np.double(-1.5)\n",
    "ima_max = np.double(1.5)\n",
    "\n",
    "zoom = np.double(8552330950415.195)\n",
    "print(\"zoom \" + str(zoom))\n",
    "image_width = np.int(1000)\n",
    "image_height = np.int(1000)\n",
    "xcoord = np.double(501.705349998)\n",
    "ycoord = np.double(450.64976)\n"
   ]
  },
  {
   "cell_type": "code",
   "execution_count": 3,
   "metadata": {
    "collapsed": true
   },
   "outputs": [],
   "source": [
    "# calculate deltas\n",
    "real_delta = np.double((real_max - real_min) / image_width)\n",
    "ima_delta = np.double((ima_max - ima_min) / image_height)"
   ]
  },
  {
   "cell_type": "code",
   "execution_count": 4,
   "metadata": {
    "collapsed": false
   },
   "outputs": [],
   "source": [
    "# map image space coordinates to complex plane\n",
    "xcoord_cplane = real_min + xcoord * real_delta\n",
    "ycoord_cplane = ima_min + ycoord * ima_delta\n",
    "# or you can alternatively use numpy interpolate\n",
    "xcoord_cplane_np = np.interp(xcoord, [0, image_width], [real_min, real_max])\n",
    "ycoord_cplane_np = np.interp(ycoord, [0, image_height], [ima_min, ima_max])"
   ]
  },
  {
   "cell_type": "code",
   "execution_count": 5,
   "metadata": {
    "collapsed": false
   },
   "outputs": [
    {
     "name": "stdout",
     "output_type": "stream",
     "text": [
      "real_delta_zoom 3.507815608859661e-16\n",
      "ima_delta_zoom 3.507815608859661e-16\n"
     ]
    }
   ],
   "source": [
    "# Applying zoom to current delta\n",
    "real_delta_zoom = real_delta / zoom\n",
    "ima_delta_zoom = ima_delta / zoom\n",
    "print(\"real_delta_zoom \" + repr(real_delta_zoom))\n",
    "print(\"ima_delta_zoom \" + repr(ima_delta_zoom))"
   ]
  },
  {
   "cell_type": "code",
   "execution_count": 6,
   "metadata": {
    "collapsed": false
   },
   "outputs": [],
   "source": [
    "# New Complex plane derived from mapped image coordinates and zoom delta\n",
    "real_min_zoom = xcoord_cplane - (image_width / 2 * real_delta_zoom)\n",
    "real_max_zoom = xcoord_cplane + (image_width / 2 * real_delta_zoom)\n",
    "\n",
    "ima_min_zoom = ycoord_cplane - (image_height / 2 * ima_delta_zoom)\n",
    "ima_max_zoom = ycoord_cplane + (image_height / 2 * ima_delta_zoom)"
   ]
  },
  {
   "cell_type": "code",
   "execution_count": 7,
   "metadata": {
    "collapsed": false
   },
   "outputs": [
    {
     "name": "stdout",
     "output_type": "stream",
     "text": [
      "Complex Plane:\n",
      "\tReal      -0.49488395000617547 -0.49488395000582464\n",
      "\tImaginary -0.14805072000017525 -0.14805071999982447\n"
     ]
    }
   ],
   "source": [
    "print(\"Complex Plane:\")\n",
    "print(\"\\tReal      \" + repr(real_min_zoom) + \" \" + repr(real_max_zoom))\n",
    "print(\"\\tImaginary \" + repr(ima_min_zoom) + \" \" + repr(ima_max_zoom))"
   ]
  },
  {
   "cell_type": "code",
   "execution_count": null,
   "metadata": {
    "collapsed": true
   },
   "outputs": [],
   "source": []
  }
 ],
 "metadata": {
  "kernelspec": {
   "display_name": "Python 3",
   "language": "python",
   "name": "python3"
  },
  "language_info": {
   "codemirror_mode": {
    "name": "ipython",
    "version": 3
   },
   "file_extension": ".py",
   "mimetype": "text/x-python",
   "name": "python",
   "nbconvert_exporter": "python",
   "pygments_lexer": "ipython3",
   "version": "3.5.1"
  }
 },
 "nbformat": 4,
 "nbformat_minor": 0
}
