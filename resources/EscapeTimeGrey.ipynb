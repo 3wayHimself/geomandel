{
 "cells": [
  {
   "cell_type": "code",
   "execution_count": null,
   "metadata": {
    "collapsed": true
   },
   "outputs": [],
   "source": [
    "# Escape Time Grey"
   ]
  },
  {
   "cell_type": "code",
   "execution_count": 267,
   "metadata": {
    "collapsed": false
   },
   "outputs": [],
   "source": [
    "import numpy as np\n",
    "import matplotlib as mpl\n",
    "import matplotlib.pyplot as plt\n",
    "import matplotlib.colors as col\n",
    "import matplotlib.cm as cm"
   ]
  },
  {
   "cell_type": "code",
   "execution_count": 268,
   "metadata": {
    "collapsed": true
   },
   "outputs": [],
   "source": [
    "def rgb_linear(escapet, rgb_base, rgb_freq):\n",
    "    '''\n",
    "    calculates RGB tuples based on escape time, rgb_base and rgb_freq\n",
    "    '''\n",
    "    red = rgb_base[0]\n",
    "    green = rgb_base[1]\n",
    "    blue = rgb_base[2]\n",
    "    if (rgb_freq[0] > 0 and 255 - red > 0):\n",
    "        red = rgb_base[0] + ((escapet * rgb_freq[0]) % (255 - rgb_base[0]))\n",
    "        #print(\"red: \" + str(red))\n",
    "    if (rgb_freq[1] > 0 and 255 - green > 0):\n",
    "        green = rgb_base[1] + ((escapet * rgb_freq[1]) % (255 - rgb_base[1]))\n",
    "        #print(\"green: \" + str(green))\n",
    "    if (rgb_freq[2] > 0 and 255 - blue > 0):\n",
    "        blue = rgb_base[2] + ((escapet * rgb_freq[2]) % (255 - rgb_base[2]))\n",
    "        #print(\"blue: \" + str(blue))\n",
    "    \n",
    "    return (red, green, blue)\n",
    "        "
   ]
  },
  {
   "cell_type": "code",
   "execution_count": 269,
   "metadata": {
    "collapsed": false
   },
   "outputs": [],
   "source": [
    "escape_time = np.arange(0, 100, 1)\n",
    "grey_values_2 = np.arange(0, 100, 1)\n",
    "grey_values_6 = np.arange(0, 100, 1)\n",
    "grey_values_10 = np.arange(0, 100, 1)\n",
    "grey_values_16 = np.arange(0, 100, 1)\n",
    "for et in escape_time:\n",
    "    grey_values_2[et] = rgb_linear(et, (55, 0, 0), (2, 0 , 0))[0]\n",
    "    grey_values_6[et] = rgb_linear(et, (55, 0, 0), (6, 0 , 0))[0]\n",
    "    grey_values_10[et] = rgb_linear(et, (55, 0, 0), (10, 0 , 0))[0]\n",
    "    grey_values_16[et] = rgb_linear(et, (55, 0, 0), (16, 0 , 0))[0]\n"
   ]
  },
  {
   "cell_type": "code",
   "execution_count": 270,
   "metadata": {
    "collapsed": false
   },
   "outputs": [],
   "source": [
    "# norm_object = col.Normalize(np.min(grey_values), np.max(grey_values))"
   ]
  },
  {
   "cell_type": "code",
   "execution_count": 271,
   "metadata": {
    "collapsed": false
   },
   "outputs": [
    {
     "data": {
      "text/plain": [
       "<matplotlib.text.Text at 0x7fcff93e5048>"
      ]
     },
     "execution_count": 271,
     "metadata": {},
     "output_type": "execute_result"
    }
   ],
   "source": [
    "fig = plt.figure()\n",
    "fig.suptitle(\"Grey Scale - Escape Time\", fontsize=16)"
   ]
  },
  {
   "cell_type": "code",
   "execution_count": 272,
   "metadata": {
    "collapsed": false
   },
   "outputs": [],
   "source": [
    "ax_2 = fig.add_subplot(221)\n",
    "ax_2.scatter(escape_time, grey_values_2, c=grey_values_2,\n",
    "           vmin=np.min(grey_values_2), vmax=np.max(grey_values_2),\n",
    "           cmap=cm.Greys)\n",
    "ax_2.set_title(\"Grey Frequency 2\")\n",
    "ax_2.set_xlabel(\"Escape Time\")\n",
    "ax_2.set_ylabel(\"Grey Shade\")\n",
    "ax_6 = fig.add_subplot(222)\n",
    "ax_6.scatter(escape_time, grey_values_6, c=grey_values_6,\n",
    "           vmin=np.min(grey_values_6), vmax=np.max(grey_values_6),\n",
    "           cmap=cm.Greys)\n",
    "ax_6.set_title(\"Grey Frequency 6\")\n",
    "ax_6.set_xlabel(\"Escape Time\")\n",
    "ax_6.set_ylabel(\"Grey Shade\")\n",
    "ax_10 = fig.add_subplot(223)\n",
    "ax_10.scatter(escape_time, grey_values_10, c=grey_values_10,\n",
    "           vmin=np.min(grey_values_10), vmax=np.max(grey_values_10),\n",
    "           cmap=cm.Greys)\n",
    "ax_10.set_title(\"Grey Frequency 10\")\n",
    "ax_10.set_xlabel(\"Escape Time\")\n",
    "ax_10.set_ylabel(\"Grey Shade\")\n",
    "ax_16 = fig.add_subplot(224)\n",
    "ax_16.scatter(escape_time, grey_values_16, c=grey_values_16,\n",
    "           vmin=np.min(grey_values_16), vmax=np.max(grey_values_16),\n",
    "           cmap=cm.Greys)\n",
    "ax_16.set_title(\"Grey Frequency 16\")\n",
    "ax_16.set_xlabel(\"Escape Time\")\n",
    "ax_16.set_ylabel(\"Grey Shade\")\n",
    "\n",
    "#fig.colorbar(sc_2, orientation='horizontal')\n",
    "plt.tight_layout()\n",
    "plt.show()"
   ]
  },
  {
   "cell_type": "code",
   "execution_count": null,
   "metadata": {
    "collapsed": true
   },
   "outputs": [],
   "source": []
  }
 ],
 "metadata": {
  "kernelspec": {
   "display_name": "Python 3",
   "language": "python",
   "name": "python3"
  },
  "language_info": {
   "codemirror_mode": {
    "name": "ipython",
    "version": 3
   },
   "file_extension": ".py",
   "mimetype": "text/x-python",
   "name": "python",
   "nbconvert_exporter": "python",
   "pygments_lexer": "ipython3",
   "version": "3.5.1"
  }
 },
 "nbformat": 4,
 "nbformat_minor": 0
}
