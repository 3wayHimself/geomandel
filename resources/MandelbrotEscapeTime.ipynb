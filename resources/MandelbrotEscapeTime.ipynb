{
 "cells": [
  {
   "cell_type": "code",
   "execution_count": 122,
   "metadata": {
    "collapsed": false
   },
   "outputs": [],
   "source": [
    "import math\n",
    "import numpy as np"
   ]
  },
  {
   "cell_type": "code",
   "execution_count": 123,
   "metadata": {
    "collapsed": false
   },
   "outputs": [],
   "source": [
    "# set start values\n",
    "zstart = np.complex(-2.5,-1.5)\n",
    "zend = np.complex(1.0, 1.5)\n",
    "\n",
    "bailout = np.int(100)\n",
    "\n",
    "image_width = np.int(50)\n",
    "image_height = np.int(50)\n"
   ]
  },
  {
   "cell_type": "code",
   "execution_count": 124,
   "metadata": {
    "collapsed": true
   },
   "outputs": [],
   "source": [
    "def calc_complex_pos(xpos, ypos):\n",
    "    print (zstart + np.complex(xpos * ((zend.real - zstart.real) / image_width), ypos * ((zend.imag - zstart.imag) / image_height)))"
   ]
  },
  {
   "cell_type": "code",
   "execution_count": 125,
   "metadata": {
    "collapsed": false
   },
   "outputs": [],
   "source": [
    "# calc_complex_pos(8, 11)"
   ]
  },
  {
   "cell_type": "code",
   "execution_count": 126,
   "metadata": {
    "collapsed": false
   },
   "outputs": [],
   "source": [
    "# basic mandelbrot escape time algorithm. using a similar approach than in c++ so this is not very pythonic\n",
    "def mandelcalc (xpos, ypos, print_mandel=False):\n",
    "    c = zstart + np.complex(xpos * ((zend.real - zstart.real) / image_width),\n",
    "                            ypos * ((zend.imag - zstart.imag) / image_height))\n",
    "    z = np.complex(0.0, 0.0)\n",
    "    print(\"zO \" + str(c))\n",
    "    # using an extra iterations variable here because this is essentially what we are doing in c++ as well. \n",
    "    # I am not so sure if this is a good idea though. Having lookedd at a lot of pseudo code for mandelbrot iterations\n",
    "    # and are versions that support both approaches. \n",
    "    iterations = 0\n",
    "    for i in range(bailout):\n",
    "        z = z*z + c\n",
    "        if ( abs(z) >= 2.0):\n",
    "            # print(\"zE \" + str(z))\n",
    "            break\n",
    "        iterations += 1\n",
    "    # print(str(iterations) + \", \", end=\"\",flush=True) # this generates a nice list that we can use with c++ \n",
    "    print(str(xpos) + \"/\" + str(ypos) + \" Escape time: \" + str(iterations) + \" - Z \" + str(z))\n",
    "    # print(\"Z:           \" + str(z))\n",
    "    if (print_mandel):\n",
    "        # easy print ascii mandel\n",
    "        if (i == bailout):\n",
    "            print(\"*\", end=\"\",flush=True)\n",
    "        else:\n",
    "            print(\".\", end=\"\",flush=True)"
   ]
  },
  {
   "cell_type": "code",
   "execution_count": 127,
   "metadata": {
    "collapsed": true
   },
   "outputs": [],
   "source": [
    "def continuous_index (its, z):\n",
    "    print (\"Continuous index \" + str(its + 1 - (math.log(2) / abs(z)) / math.log(2.0)))"
   ]
  },
  {
   "cell_type": "code",
   "execution_count": 128,
   "metadata": {
    "collapsed": false
   },
   "outputs": [
    {
     "name": "stdout",
     "output_type": "stream",
     "text": [
      "zO (0.3700000000000001+0.11999999999999988j)\n",
      "41/27 Escape time: 55 - Z (2.3637850846657784-2.264372597523388j)\n",
      "Continuous index 55.69450318630743\n"
     ]
    }
   ],
   "source": [
    "# calculate all complex numbers for the whole range\n",
    "for y in range(image_height):\n",
    "    for x in range(image_width):\n",
    "        #mandelcalc(x, y)\n",
    "        pass\n",
    "    #print(\"\")\n",
    "mandelcalc(41, 27)\n",
    "continuous_index(55, np.complex(2.3637850846657784, -2.264372597523388))"
   ]
  }
 ],
 "metadata": {
  "kernelspec": {
   "display_name": "Python 3",
   "language": "python",
   "name": "python3"
  },
  "language_info": {
   "codemirror_mode": {
    "name": "ipython",
    "version": 3
   },
   "file_extension": ".py",
   "mimetype": "text/x-python",
   "name": "python",
   "nbconvert_exporter": "python",
   "pygments_lexer": "ipython3",
   "version": "3.5.1"
  }
 },
 "nbformat": 4,
 "nbformat_minor": 0
}
