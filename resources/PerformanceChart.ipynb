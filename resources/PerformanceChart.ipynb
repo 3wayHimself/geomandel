{
 "cells": [
  {
   "cell_type": "code",
   "execution_count": 118,
   "metadata": {
    "collapsed": true
   },
   "outputs": [],
   "source": [
    "import numpy as np\n",
    "import matplotlib.pyplot as plt"
   ]
  },
  {
   "cell_type": "code",
   "execution_count": 119,
   "metadata": {
    "collapsed": true
   },
   "outputs": [],
   "source": [
    "# data\n",
    "x_idx = [1, 2, 3, 4, 6, 8]\n",
    "i5_3470_gcc = [1181, 612, 427, 332, 331, 334]\n",
    "i5_3470_clang = [2055, 1051, 723, 565, 564, 566]\n",
    "E5_2620_v2 = [1958, 1010, 1017, 1014, 1010, 1022]\n",
    "i7_4650U = [1232, 687, 509, 408, 386, 387]\n"
   ]
  },
  {
   "cell_type": "code",
   "execution_count": 120,
   "metadata": {
    "collapsed": false
   },
   "outputs": [
    {
     "data": {
      "text/plain": [
       "[<matplotlib.axis.XTick at 0x7f8a995097f0>,\n",
       " <matplotlib.axis.XTick at 0x7f8a98ebed30>,\n",
       " <matplotlib.axis.XTick at 0x7f8a9a998e48>,\n",
       " <matplotlib.axis.XTick at 0x7f8a9a939908>,\n",
       " <matplotlib.axis.XTick at 0x7f8a9a93f1d0>,\n",
       " <matplotlib.axis.XTick at 0x7f8a9a93c080>,\n",
       " <matplotlib.axis.XTick at 0x7f8a9a93c400>,\n",
       " <matplotlib.axis.XTick at 0x7f8a9a9cee48>,\n",
       " <matplotlib.axis.XTick at 0x7f8a9a9a4780>]"
      ]
     },
     "execution_count": 120,
     "metadata": {},
     "output_type": "execute_result"
    }
   ],
   "source": [
    "fig = plt.figure(1)\n",
    "fig.suptitle(\"Performance Chart\", fontsize='large', weight='bold')\n",
    "ax = fig.add_subplot(111)\n",
    "ax.set_xlabel(\"Number of threads\")\n",
    "ax.set_ylabel(\"Milliseconds\")\n",
    "# axis range\n",
    "ax.axis([0.5, 10, 200, 2100])\n",
    "# define major tick frequency\n",
    "major_y_ticks = np.arange(200, 2100, 100)\n",
    "major_x_ticks = np.arange(1, 10, 1)\n",
    "ax.set_yticks(major_y_ticks)\n",
    "ax.set_xticks(major_x_ticks)"
   ]
  },
  {
   "cell_type": "code",
   "execution_count": 121,
   "metadata": {
    "collapsed": false
   },
   "outputs": [],
   "source": [
    "ax.plot(x_idx, i5_3470_gcc, '^-', label=\"i5-3470, GCC 5.3\")\n",
    "ax.plot(x_idx, i5_3470_clang, 'v-', label=\"i5-3470, clang 3.7.1\")\n",
    "ax.plot(x_idx, E5_2620_v2, 'o-', label=\"E5-2620 v2, GCC 4.9.3\")\n",
    "ax.plot(x_idx, i7_4650U, 's-', label=\"i7-4650U, clang-700.1.81 Apple\")\n",
    "# plot a grid\n",
    "ax.grid()\n"
   ]
  },
  {
   "cell_type": "code",
   "execution_count": 122,
   "metadata": {
    "collapsed": false
   },
   "outputs": [],
   "source": [
    "plt.legend()\n",
    "plt.show()"
   ]
  }
 ],
 "metadata": {
  "kernelspec": {
   "display_name": "Python 3",
   "language": "python",
   "name": "python3"
  },
  "language_info": {
   "codemirror_mode": {
    "name": "ipython",
    "version": 3
   },
   "file_extension": ".py",
   "mimetype": "text/x-python",
   "name": "python",
   "nbconvert_exporter": "python",
   "pygments_lexer": "ipython3",
   "version": "3.5.1"
  }
 },
 "nbformat": 4,
 "nbformat_minor": 0
}
